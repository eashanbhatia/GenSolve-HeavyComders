{
  "nbformat": 4,
  "nbformat_minor": 0,
  "metadata": {
    "colab": {
      "provenance": [],
      "gpuType": "V28"
    },
    "kernelspec": {
      "name": "python3",
      "display_name": "Python 3"
    },
    "language_info": {
      "name": "python"
    },
    "accelerator": "TPU"
  },
  "cells": [
    {
      "cell_type": "code",
      "execution_count": null,
      "metadata": {
        "colab": {
          "base_uri": "https://localhost:8080/",
          "height": 73
        },
        "id": "2OWpUMrv9QPN",
        "outputId": "decff467-94ce-4a36-fb75-225b19f035fe"
      },
      "outputs": [
        {
          "output_type": "display_data",
          "data": {
            "text/plain": [
              "<IPython.core.display.HTML object>"
            ],
            "text/html": [
              "\n",
              "     <input type=\"file\" id=\"files-951b6cd1-9a87-44d0-a8ee-4e517d929a69\" name=\"files[]\" multiple disabled\n",
              "        style=\"border:none\" />\n",
              "     <output id=\"result-951b6cd1-9a87-44d0-a8ee-4e517d929a69\">\n",
              "      Upload widget is only available when the cell has been executed in the\n",
              "      current browser session. Please rerun this cell to enable.\n",
              "      </output>\n",
              "      <script>// Copyright 2017 Google LLC\n",
              "//\n",
              "// Licensed under the Apache License, Version 2.0 (the \"License\");\n",
              "// you may not use this file except in compliance with the License.\n",
              "// You may obtain a copy of the License at\n",
              "//\n",
              "//      http://www.apache.org/licenses/LICENSE-2.0\n",
              "//\n",
              "// Unless required by applicable law or agreed to in writing, software\n",
              "// distributed under the License is distributed on an \"AS IS\" BASIS,\n",
              "// WITHOUT WARRANTIES OR CONDITIONS OF ANY KIND, either express or implied.\n",
              "// See the License for the specific language governing permissions and\n",
              "// limitations under the License.\n",
              "\n",
              "/**\n",
              " * @fileoverview Helpers for google.colab Python module.\n",
              " */\n",
              "(function(scope) {\n",
              "function span(text, styleAttributes = {}) {\n",
              "  const element = document.createElement('span');\n",
              "  element.textContent = text;\n",
              "  for (const key of Object.keys(styleAttributes)) {\n",
              "    element.style[key] = styleAttributes[key];\n",
              "  }\n",
              "  return element;\n",
              "}\n",
              "\n",
              "// Max number of bytes which will be uploaded at a time.\n",
              "const MAX_PAYLOAD_SIZE = 100 * 1024;\n",
              "\n",
              "function _uploadFiles(inputId, outputId) {\n",
              "  const steps = uploadFilesStep(inputId, outputId);\n",
              "  const outputElement = document.getElementById(outputId);\n",
              "  // Cache steps on the outputElement to make it available for the next call\n",
              "  // to uploadFilesContinue from Python.\n",
              "  outputElement.steps = steps;\n",
              "\n",
              "  return _uploadFilesContinue(outputId);\n",
              "}\n",
              "\n",
              "// This is roughly an async generator (not supported in the browser yet),\n",
              "// where there are multiple asynchronous steps and the Python side is going\n",
              "// to poll for completion of each step.\n",
              "// This uses a Promise to block the python side on completion of each step,\n",
              "// then passes the result of the previous step as the input to the next step.\n",
              "function _uploadFilesContinue(outputId) {\n",
              "  const outputElement = document.getElementById(outputId);\n",
              "  const steps = outputElement.steps;\n",
              "\n",
              "  const next = steps.next(outputElement.lastPromiseValue);\n",
              "  return Promise.resolve(next.value.promise).then((value) => {\n",
              "    // Cache the last promise value to make it available to the next\n",
              "    // step of the generator.\n",
              "    outputElement.lastPromiseValue = value;\n",
              "    return next.value.response;\n",
              "  });\n",
              "}\n",
              "\n",
              "/**\n",
              " * Generator function which is called between each async step of the upload\n",
              " * process.\n",
              " * @param {string} inputId Element ID of the input file picker element.\n",
              " * @param {string} outputId Element ID of the output display.\n",
              " * @return {!Iterable<!Object>} Iterable of next steps.\n",
              " */\n",
              "function* uploadFilesStep(inputId, outputId) {\n",
              "  const inputElement = document.getElementById(inputId);\n",
              "  inputElement.disabled = false;\n",
              "\n",
              "  const outputElement = document.getElementById(outputId);\n",
              "  outputElement.innerHTML = '';\n",
              "\n",
              "  const pickedPromise = new Promise((resolve) => {\n",
              "    inputElement.addEventListener('change', (e) => {\n",
              "      resolve(e.target.files);\n",
              "    });\n",
              "  });\n",
              "\n",
              "  const cancel = document.createElement('button');\n",
              "  inputElement.parentElement.appendChild(cancel);\n",
              "  cancel.textContent = 'Cancel upload';\n",
              "  const cancelPromise = new Promise((resolve) => {\n",
              "    cancel.onclick = () => {\n",
              "      resolve(null);\n",
              "    };\n",
              "  });\n",
              "\n",
              "  // Wait for the user to pick the files.\n",
              "  const files = yield {\n",
              "    promise: Promise.race([pickedPromise, cancelPromise]),\n",
              "    response: {\n",
              "      action: 'starting',\n",
              "    }\n",
              "  };\n",
              "\n",
              "  cancel.remove();\n",
              "\n",
              "  // Disable the input element since further picks are not allowed.\n",
              "  inputElement.disabled = true;\n",
              "\n",
              "  if (!files) {\n",
              "    return {\n",
              "      response: {\n",
              "        action: 'complete',\n",
              "      }\n",
              "    };\n",
              "  }\n",
              "\n",
              "  for (const file of files) {\n",
              "    const li = document.createElement('li');\n",
              "    li.append(span(file.name, {fontWeight: 'bold'}));\n",
              "    li.append(span(\n",
              "        `(${file.type || 'n/a'}) - ${file.size} bytes, ` +\n",
              "        `last modified: ${\n",
              "            file.lastModifiedDate ? file.lastModifiedDate.toLocaleDateString() :\n",
              "                                    'n/a'} - `));\n",
              "    const percent = span('0% done');\n",
              "    li.appendChild(percent);\n",
              "\n",
              "    outputElement.appendChild(li);\n",
              "\n",
              "    const fileDataPromise = new Promise((resolve) => {\n",
              "      const reader = new FileReader();\n",
              "      reader.onload = (e) => {\n",
              "        resolve(e.target.result);\n",
              "      };\n",
              "      reader.readAsArrayBuffer(file);\n",
              "    });\n",
              "    // Wait for the data to be ready.\n",
              "    let fileData = yield {\n",
              "      promise: fileDataPromise,\n",
              "      response: {\n",
              "        action: 'continue',\n",
              "      }\n",
              "    };\n",
              "\n",
              "    // Use a chunked sending to avoid message size limits. See b/62115660.\n",
              "    let position = 0;\n",
              "    do {\n",
              "      const length = Math.min(fileData.byteLength - position, MAX_PAYLOAD_SIZE);\n",
              "      const chunk = new Uint8Array(fileData, position, length);\n",
              "      position += length;\n",
              "\n",
              "      const base64 = btoa(String.fromCharCode.apply(null, chunk));\n",
              "      yield {\n",
              "        response: {\n",
              "          action: 'append',\n",
              "          file: file.name,\n",
              "          data: base64,\n",
              "        },\n",
              "      };\n",
              "\n",
              "      let percentDone = fileData.byteLength === 0 ?\n",
              "          100 :\n",
              "          Math.round((position / fileData.byteLength) * 100);\n",
              "      percent.textContent = `${percentDone}% done`;\n",
              "\n",
              "    } while (position < fileData.byteLength);\n",
              "  }\n",
              "\n",
              "  // All done.\n",
              "  yield {\n",
              "    response: {\n",
              "      action: 'complete',\n",
              "    }\n",
              "  };\n",
              "}\n",
              "\n",
              "scope.google = scope.google || {};\n",
              "scope.google.colab = scope.google.colab || {};\n",
              "scope.google.colab._files = {\n",
              "  _uploadFiles,\n",
              "  _uploadFilesContinue,\n",
              "};\n",
              "})(self);\n",
              "</script> "
            ]
          },
          "metadata": {}
        },
        {
          "output_type": "stream",
          "name": "stdout",
          "text": [
            "Saving categories-aman.txt to categories-aman.txt\n"
          ]
        }
      ],
      "source": [
        "from google.colab import files\n",
        "uploaded = files.upload()\n",
        "#uploaded = files.upload"
      ]
    },
    {
      "cell_type": "code",
      "source": [
        "from google.colab import drive\n",
        "drive.mount('/content/drive')"
      ],
      "metadata": {
        "colab": {
          "base_uri": "https://localhost:8080/"
        },
        "id": "RL6kc3eJ9dhl",
        "outputId": "f4025861-217c-4326-cb61-a5cf70846432"
      },
      "execution_count": null,
      "outputs": [
        {
          "output_type": "stream",
          "name": "stdout",
          "text": [
            "Mounted at /content/drive\n"
          ]
        }
      ]
    },
    {
      "cell_type": "code",
      "source": [
        "f = open(\"categories-aman.txt\",\"r\")\n",
        "# And for reading use\n",
        "classes = f.readlines()\n",
        "f.close()"
      ],
      "metadata": {
        "id": "-sLZ0Y0Q9ki5"
      },
      "execution_count": null,
      "outputs": []
    },
    {
      "cell_type": "code",
      "source": [
        "classes = [c.replace('\\n','').replace(' ','_') for c in classes]\n",
        "print(classes)"
      ],
      "metadata": {
        "colab": {
          "base_uri": "https://localhost:8080/"
        },
        "id": "LV2O88_k9qgR",
        "outputId": "8938b504-e0ad-4b4e-929f-fd65a2d5653d"
      },
      "execution_count": null,
      "outputs": [
        {
          "output_type": "stream",
          "name": "stdout",
          "text": [
            "['circle', 'hexagon', 'line', 'moon', 'octagon', 'smiley_face', 'square', 'star', 'triangle', 'umbrella']\n"
          ]
        }
      ]
    },
    {
      "cell_type": "code",
      "source": [
        "!mkdir data"
      ],
      "metadata": {
        "id": "a1RUxjJH9uyC"
      },
      "execution_count": null,
      "outputs": []
    },
    {
      "cell_type": "code",
      "source": [
        "import urllib\n",
        "def download():\n",
        "\n",
        "  base = 'https://storage.googleapis.com/quickdraw_dataset/full/numpy_bitmap/'\n",
        "  for c in classes:\n",
        "    cls_url = c.replace('_', '%20')\n",
        "    path = base+cls_url+'.npy'\n",
        "    print(path)\n",
        "    urllib.request.urlretrieve(path, 'data/'+c+'.npy')"
      ],
      "metadata": {
        "id": "TuI9M3Sk9ypb"
      },
      "execution_count": null,
      "outputs": []
    },
    {
      "cell_type": "code",
      "source": [
        "download()"
      ],
      "metadata": {
        "colab": {
          "base_uri": "https://localhost:8080/"
        },
        "id": "37laNgT-91Kd",
        "outputId": "2ff98efe-9340-437d-9a6c-151678222c79"
      },
      "execution_count": null,
      "outputs": [
        {
          "output_type": "stream",
          "name": "stdout",
          "text": [
            "https://storage.googleapis.com/quickdraw_dataset/full/numpy_bitmap/circle.npy\n",
            "https://storage.googleapis.com/quickdraw_dataset/full/numpy_bitmap/hexagon.npy\n",
            "https://storage.googleapis.com/quickdraw_dataset/full/numpy_bitmap/line.npy\n",
            "https://storage.googleapis.com/quickdraw_dataset/full/numpy_bitmap/moon.npy\n",
            "https://storage.googleapis.com/quickdraw_dataset/full/numpy_bitmap/octagon.npy\n",
            "https://storage.googleapis.com/quickdraw_dataset/full/numpy_bitmap/smiley%20face.npy\n",
            "https://storage.googleapis.com/quickdraw_dataset/full/numpy_bitmap/square.npy\n",
            "https://storage.googleapis.com/quickdraw_dataset/full/numpy_bitmap/star.npy\n",
            "https://storage.googleapis.com/quickdraw_dataset/full/numpy_bitmap/triangle.npy\n",
            "https://storage.googleapis.com/quickdraw_dataset/full/numpy_bitmap/umbrella.npy\n"
          ]
        }
      ]
    },
    {
      "cell_type": "code",
      "source": [
        "import os\n",
        "import glob\n",
        "import numpy as np\n",
        "from tensorflow.keras import layers\n",
        "from tensorflow import keras\n",
        "import tensorflow as tf"
      ],
      "metadata": {
        "id": "3yBPEVHj928b"
      },
      "execution_count": null,
      "outputs": []
    },
    {
      "cell_type": "code",
      "source": [
        "def load_data(root, vfold_ratio=0.1, max_items_per_class=5000):\n",
        "    all_files = glob.glob(os.path.join(root, '*.npy'))\n",
        "\n",
        "    #initialize variables\n",
        "    x = np.empty([0, 784])\n",
        "    y = np.empty([0])\n",
        "    class_names = []\n",
        "\n",
        "    #load each data file\n",
        "    for idx, file in enumerate(all_files):\n",
        "        print(idx)\n",
        "        print(file)\n",
        "        data = np.load(file)\n",
        "        data = data[0: max_items_per_class, :]\n",
        "        labels = np.full(data.shape[0], idx)\n",
        "\n",
        "        x = np.concatenate((x, data), axis=0)\n",
        "        y = np.append(y, labels)\n",
        "\n",
        "        class_name, ext = os.path.splitext(os.path.basename(file))\n",
        "        class_names.append(class_name)\n",
        "\n",
        "    data = None\n",
        "    labels = None\n",
        "\n",
        "    #randomize the dataset\n",
        "    permutation = np.random.permutation(y.shape[0])\n",
        "    x = x[permutation, :]\n",
        "    y = y[permutation]\n",
        "\n",
        "    #separate into training and testing\n",
        "    vfold_size = int(x.shape[0]/100*(vfold_ratio*100))\n",
        "\n",
        "    x_test = x[0:vfold_size, :]\n",
        "    y_test = y[0:vfold_size]\n",
        "\n",
        "    x_train = x[vfold_size:x.shape[0], :]\n",
        "    y_train = y[vfold_size:y.shape[0]]\n",
        "    return x_train, y_train, x_test, y_test, class_names"
      ],
      "metadata": {
        "id": "FvvaGFIQ97cx"
      },
      "execution_count": null,
      "outputs": []
    },
    {
      "cell_type": "code",
      "source": [
        "x_train, y_train, x_test, y_test, class_names = load_data('data')\n",
        "num_classes = len(class_names)\n",
        "image_size = 28"
      ],
      "metadata": {
        "colab": {
          "base_uri": "https://localhost:8080/"
        },
        "id": "Ox3szI27-AoG",
        "outputId": "5d23e08a-0fe2-444e-fbfb-2f1cb1fb2089"
      },
      "execution_count": null,
      "outputs": [
        {
          "output_type": "stream",
          "name": "stdout",
          "text": [
            "0\n",
            "data/circle.npy\n",
            "1\n",
            "data/triangle.npy\n",
            "2\n",
            "data/moon.npy\n",
            "3\n",
            "data/line.npy\n",
            "4\n",
            "data/smiley_face.npy\n",
            "5\n",
            "data/hexagon.npy\n",
            "6\n",
            "data/square.npy\n",
            "7\n",
            "data/octagon.npy\n",
            "8\n",
            "data/umbrella.npy\n",
            "9\n",
            "data/star.npy\n"
          ]
        }
      ]
    },
    {
      "cell_type": "code",
      "source": [
        "print(len(x_train))\n",
        "print(len(y_train))\n",
        "print(len(x_test))\n",
        "print(len(y_test))"
      ],
      "metadata": {
        "colab": {
          "base_uri": "https://localhost:8080/"
        },
        "id": "Aeu7gEYj-C5Q",
        "outputId": "18b348d5-a950-4db5-d95e-9a988cfed1d8"
      },
      "execution_count": null,
      "outputs": [
        {
          "output_type": "stream",
          "name": "stdout",
          "text": [
            "45000\n",
            "45000\n",
            "5000\n",
            "5000\n"
          ]
        }
      ]
    },
    {
      "cell_type": "code",
      "source": [
        "import matplotlib.pyplot as plt\n",
        "from random import randint\n",
        "%matplotlib inline\n",
        "idx = randint(0, len(x_train))\n",
        "print(x_train[idx].reshape(28,28))\n",
        "plt.imshow(x_train[idx].reshape(28,28))\n",
        "print(class_names[int(y_train[idx].item())])"
      ],
      "metadata": {
        "colab": {
          "base_uri": "https://localhost:8080/",
          "height": 1000
        },
        "id": "KhTkjVrO-Fq8",
        "outputId": "ed3cb2f2-de6d-41a0-a166-7d221ff3eac7"
      },
      "execution_count": null,
      "outputs": [
        {
          "output_type": "stream",
          "name": "stdout",
          "text": [
            "[[  0.   0.   0.   0.   0.   0.   0.   0.   0.   0.   0.   0.   0.   0.\n",
            "    0.   0.   0.   0.   0.   0.   0.   0.   0.   0.   0.   0.   0.   0.]\n",
            " [  0.   0.   0.   0.   0.   0.   0.   0.   0.   0.   0.   0.   0.   0.\n",
            "    0.   0.   0.   0.   0.   0.   0.   0.   0.   0.   0.   0.   0.   0.]\n",
            " [  0.   0.   0.   0.   0.   0.   0.   0.   0.   0.   0.   0.   0. 113.\n",
            "   87.   0.   0.   0.   0.   0.   0.   0.   0.   0.   0.   0.   0.   0.]\n",
            " [  0.   0.   0.   0.   0.   0.   0.   0.   0.   0.   0.   0.  71. 255.\n",
            "  220.   0.   0.   0.   0.   0.   0.   0.   0.   0.   0.   0.   0.   0.]\n",
            " [  0.   0.   0.   0.   0.   0.   0.   0.   0.   0.   0.   0. 151. 255.\n",
            "  255.  42.   0.   0.   0.   0.   0.   0.   0.   0.   0.   0.   0.   0.]\n",
            " [  0.   0.   0.   0.   0.   0.   0.   0.   0.   0.   0.   0. 210. 197.\n",
            "  253. 119.   0.   0.   0.   0.   0.   0.   0.   0.   0.   0.   0.   0.]\n",
            " [  0.   0.   0.   0.   0.   0.   0.   0.   0.   0.   0.   0. 249. 130.\n",
            "  197. 196.   0.   0.   0.   0.   0.   0.   0.   0.   0.   0.   0.   0.]\n",
            " [  0.   0.   0.   0.   0.   0.   0.   0.   0.   0.   0.   0. 250. 127.\n",
            "  120. 252.  25.   0.   0.   0.   0.   0.   0.   0.   0.   0.   0.   0.]\n",
            " [  0.   0.   0.   0.   0.   0.   0.   0.   0.   0.   0.   0. 250. 127.\n",
            "   30. 246. 158.   0.   0.   0.   0.   0.   0.  27.  64.  50.   0.   0.]\n",
            " [  0.   0.   0.   0.   0.   0.   0.   0.   0.   0.   0.   3. 251. 137.\n",
            "    0. 130. 255. 255. 241. 228. 214. 210. 243. 255. 255. 219.   0.   0.]\n",
            " [  0.   0.   0.   0.   0.   0.   0.   0.   0.  10. 106. 221. 255. 168.\n",
            "    0.   7.  98. 119. 135. 148. 162. 167. 143. 227. 255. 124.   0.   0.]\n",
            " [  0.   0.   0.   0.   0.   0.   6.  71. 152. 235. 255. 189.  71.   2.\n",
            "    0.   0.   0.   0.   0.   0.  42. 145. 236. 254. 136.   3.   0.   0.]\n",
            " [  0.   0.   0.   3.  82. 167. 240. 255. 238. 161.  52.   0.   0.   0.\n",
            "    0.   0.   0.   0.   0. 150. 253. 244. 160.  58.   0.   0.   0.   0.]\n",
            " [  0.   4.  98. 218. 255. 226. 163.  84.   8.   0.   0.   0.   0.   0.\n",
            "    0.   0.   0.   0.  23. 253. 233.  26.   0.   0.   0.   0.   0.   0.]\n",
            " [  0. 100. 255. 255. 255. 255. 255. 255. 245. 194.  37.   0.   0.   0.\n",
            "    0.   0.   0.   0.   0.  94. 250. 196.   6.   0.   0.   0.   0.   0.]\n",
            " [  0.  18. 132. 136. 126. 119. 109. 102. 161. 255.  73.   0.   0.   0.\n",
            "    0.   0.   0.   0.   0.   0.  78. 254. 142.   0.   0.   0.   0.   0.]\n",
            " [  0.   0.   0.   0.   0.   0.   0.   0.  98. 255.  29.   0.   0.   0.\n",
            "    0.   0.   0.   0.   0.   0.   0. 137. 254.  80.   0.   0.   0.   0.]\n",
            " [  0.   0.   0.   0.   0.   0.   0.   0. 122. 254.   1.   0.   0.   0.\n",
            "    0.   0.   0.   0.   0.   0.   0.   4. 197. 237.  30.   0.   0.   0.]\n",
            " [  0.   0.   0.   0.   0.   0.   0.   0. 123. 254.   0.   0.   0.   0.\n",
            "    0.  96. 101.  15.   0.   0.   0.   0.  29. 236. 198.   5.   0.   0.]\n",
            " [  0.   0.   0.   0.   0.   0.   0.   0. 123. 254.   0.   0.   0.   0.\n",
            "   92. 255. 255. 251. 219. 180. 140. 101.  63.  98. 254. 138.   0.   0.]\n",
            " [  0.   0.   0.   0.   0.   0.   0.   0. 123. 254.   0.   0.   0.  57.\n",
            "  247. 182.  47. 121. 160. 200. 239. 255. 255. 255. 255. 254.  65.   0.]\n",
            " [  0.   0.   0.   0.   0.   0.   0.   0. 123. 254.   0.   0.  30. 232.\n",
            "  213.  15.   0.   0.   0.   0.   0.  23.  63. 102. 140. 175.  58.   0.]\n",
            " [  0.   0.   0.   0.   0.   0.   0.   0. 123. 254.   0.   9. 203. 237.\n",
            "   36.   0.   0.   0.   0.   0.   0.   0.   0.   0.   0.   0.   0.   0.]\n",
            " [  0.   0.   0.   0.   0.   0.   0.   0. 122. 254.  42. 205. 250.  64.\n",
            "    0.   0.   0.   0.   0.   0.   0.   0.   0.   0.   0.   0.   0.   0.]\n",
            " [  0.   0.   0.   0.   0.   0.   0.   0.  85. 255. 252. 230.  69.   0.\n",
            "    0.   0.   0.   0.   0.   0.   0.   0.   0.   0.   0.   0.   0.   0.]\n",
            " [  0.   0.   0.   0.   0.   0.   0.   0.   5. 142. 129.  19.   0.   0.\n",
            "    0.   0.   0.   0.   0.   0.   0.   0.   0.   0.   0.   0.   0.   0.]\n",
            " [  0.   0.   0.   0.   0.   0.   0.   0.   0.   0.   0.   0.   0.   0.\n",
            "    0.   0.   0.   0.   0.   0.   0.   0.   0.   0.   0.   0.   0.   0.]\n",
            " [  0.   0.   0.   0.   0.   0.   0.   0.   0.   0.   0.   0.   0.   0.\n",
            "    0.   0.   0.   0.   0.   0.   0.   0.   0.   0.   0.   0.   0.   0.]]\n",
            "star\n"
          ]
        },
        {
          "output_type": "display_data",
          "data": {
            "text/plain": [
              "<Figure size 640x480 with 1 Axes>"
            ],
            "image/png": "[encoded data removed]"
          },
          "metadata": {}
        }
      ]
    },
    {
      "cell_type": "code",
      "source": [
        "x_train = x_train.reshape(x_train.shape[0], image_size, image_size, 1).astype('float32')\n",
        "x_test = x_test.reshape(x_test.shape[0], image_size, image_size, 1).astype('float32')\n",
        "\n",
        "x_train /= 255.0\n",
        "x_test /= 255.0\n",
        "\n",
        "# Convert class vectors to class matrices\n",
        "y_train = keras.utils.to_categorical(y_train, num_classes)\n",
        "y_test = keras.utils.to_categorical(y_test, num_classes)"
      ],
      "metadata": {
        "id": "AzY3WBDe-H3I"
      },
      "execution_count": null,
      "outputs": []
    },
    {
      "cell_type": "code",
      "source": [
        "# Define model\n",
        "model = keras.Sequential()\n",
        "model.add(layers.Convolution2D(16, (3, 3),padding='same',input_shape=x_train.shape[1:], activation='relu'))\n",
        "model.add(layers.Convolution2D(16, (3, 3),padding='same',input_shape=x_train.shape[1:], activation='relu'))\n",
        "model.add(layers.MaxPooling2D(pool_size=(2, 2)))\n",
        "\n",
        "\n",
        "model.add(layers.Convolution2D(32, (3, 3), padding='same', activation= 'relu'))\n",
        "model.add(layers.Convolution2D(32, (3, 3), padding='same', activation= 'relu'))\n",
        "model.add(layers.MaxPooling2D(pool_size=(2, 2)))\n",
        "\n",
        "model.add(layers.Convolution2D(64, (3, 3), padding='same', activation= 'relu'))\n",
        "model.add(layers.Convolution2D(64, (3, 3), padding='same', activation= 'relu'))\n",
        "model.add(layers.MaxPooling2D(pool_size =(2,2)))\n",
        "\n",
        "model.add(layers.Dropout(0.1))\n",
        "model.add(layers.Flatten())\n",
        "model.add(layers.Dense(100, activation='tanh'))\n",
        "model.add(layers.Dense(10, activation='softmax'))\n",
        "# Train model\n",
        "# adam = tf.train.AdamOptimizer()\n",
        "adam = tf.keras.optimizers.Adam()\n",
        "model.compile(loss='categorical_crossentropy', optimizer=adam, metrics=['top_k_categorical_accuracy'])\n",
        "print(model.summary())"
      ],
      "metadata": {
        "colab": {
          "base_uri": "https://localhost:8080/"
        },
        "id": "2JziYkGH-bOb",
        "outputId": "9e094be2-bd2b-4f38-8ffe-308565a21225"
      },
      "execution_count": null,
      "outputs": [
        {
          "output_type": "stream",
          "name": "stdout",
          "text": [
            "Model: \"sequential\"\n",
            "_________________________________________________________________\n",
            " Layer (type)                Output Shape              Param #   \n",
            "=================================================================\n",
            " conv2d (Conv2D)             (None, 28, 28, 16)        160       \n",
            "                                                                 \n",
            " conv2d_1 (Conv2D)           (None, 28, 28, 16)        2320      \n",
            "                                                                 \n",
            " max_pooling2d (MaxPooling2  (None, 14, 14, 16)        0         \n",
            " D)                                                              \n",
            "                                                                 \n",
            " conv2d_2 (Conv2D)           (None, 14, 14, 32)        4640      \n",
            "                                                                 \n",
            " conv2d_3 (Conv2D)           (None, 14, 14, 32)        9248      \n",
            "                                                                 \n",
            " max_pooling2d_1 (MaxPoolin  (None, 7, 7, 32)          0         \n",
            " g2D)                                                            \n",
            "                                                                 \n",
            " conv2d_4 (Conv2D)           (None, 7, 7, 64)          18496     \n",
            "                                                                 \n",
            " conv2d_5 (Conv2D)           (None, 7, 7, 64)          36928     \n",
            "                                                                 \n",
            " max_pooling2d_2 (MaxPoolin  (None, 3, 3, 64)          0         \n",
            " g2D)                                                            \n",
            "                                                                 \n",
            " dropout (Dropout)           (None, 3, 3, 64)          0         \n",
            "                                                                 \n",
            " flatten (Flatten)           (None, 576)               0         \n",
            "                                                                 \n",
            " dense (Dense)               (None, 100)               57700     \n",
            "                                                                 \n",
            " dense_1 (Dense)             (None, 10)                1010      \n",
            "                                                                 \n",
            "=================================================================\n",
            "Total params: 130502 (509.77 KB)\n",
            "Trainable params: 130502 (509.77 KB)\n",
            "Non-trainable params: 0 (0.00 Byte)\n",
            "_________________________________________________________________\n",
            "None\n"
          ]
        }
      ]
    },
    {
      "cell_type": "code",
      "source": [
        "model.fit(x = x_train, y = y_train, validation_split=0.1, batch_size = 256, verbose=2, epochs=30)"
      ],
      "metadata": {
        "colab": {
          "base_uri": "https://localhost:8080/"
        },
        "id": "Q-P5ey5E-iEq",
        "outputId": "80ca016a-8ad9-49de-e08c-8d49a11c5279"
      },
      "execution_count": null,
      "outputs": [
        {
          "output_type": "stream",
          "name": "stdout",
          "text": [
            "Epoch 1/30\n",
            "159/159 - 9s - loss: 0.8722 - top_k_categorical_accuracy: 0.9507 - val_loss: 0.5869 - val_top_k_categorical_accuracy: 0.9798 - 9s/epoch - 54ms/step\n",
            "Epoch 2/30\n",
            "159/159 - 6s - loss: 0.4949 - top_k_categorical_accuracy: 0.9821 - val_loss: 0.4141 - val_top_k_categorical_accuracy: 0.9876 - 6s/epoch - 38ms/step\n",
            "Epoch 3/30\n",
            "159/159 - 6s - loss: 0.4021 - top_k_categorical_accuracy: 0.9858 - val_loss: 0.3717 - val_top_k_categorical_accuracy: 0.9836 - 6s/epoch - 40ms/step\n",
            "Epoch 4/30\n",
            "159/159 - 6s - loss: 0.3584 - top_k_categorical_accuracy: 0.9878 - val_loss: 0.3556 - val_top_k_categorical_accuracy: 0.9887 - 6s/epoch - 41ms/step\n",
            "Epoch 5/30\n",
            "159/159 - 6s - loss: 0.3314 - top_k_categorical_accuracy: 0.9895 - val_loss: 0.3281 - val_top_k_categorical_accuracy: 0.9884 - 6s/epoch - 39ms/step\n",
            "Epoch 6/30\n",
            "159/159 - 6s - loss: 0.3118 - top_k_categorical_accuracy: 0.9902 - val_loss: 0.3276 - val_top_k_categorical_accuracy: 0.9896 - 6s/epoch - 39ms/step\n",
            "Epoch 7/30\n",
            "159/159 - 7s - loss: 0.2955 - top_k_categorical_accuracy: 0.9914 - val_loss: 0.3253 - val_top_k_categorical_accuracy: 0.9893 - 7s/epoch - 42ms/step\n",
            "Epoch 8/30\n",
            "159/159 - 6s - loss: 0.2833 - top_k_categorical_accuracy: 0.9921 - val_loss: 0.3058 - val_top_k_categorical_accuracy: 0.9904 - 6s/epoch - 40ms/step\n",
            "Epoch 9/30\n",
            "159/159 - 6s - loss: 0.2691 - top_k_categorical_accuracy: 0.9931 - val_loss: 0.2999 - val_top_k_categorical_accuracy: 0.9893 - 6s/epoch - 39ms/step\n",
            "Epoch 10/30\n",
            "159/159 - 6s - loss: 0.2562 - top_k_categorical_accuracy: 0.9939 - val_loss: 0.3090 - val_top_k_categorical_accuracy: 0.9898 - 6s/epoch - 39ms/step\n",
            "Epoch 11/30\n",
            "159/159 - 6s - loss: 0.2448 - top_k_categorical_accuracy: 0.9943 - val_loss: 0.3077 - val_top_k_categorical_accuracy: 0.9904 - 6s/epoch - 38ms/step\n",
            "Epoch 12/30\n",
            "159/159 - 6s - loss: 0.2331 - top_k_categorical_accuracy: 0.9954 - val_loss: 0.3184 - val_top_k_categorical_accuracy: 0.9884 - 6s/epoch - 38ms/step\n",
            "Epoch 13/30\n",
            "159/159 - 6s - loss: 0.2271 - top_k_categorical_accuracy: 0.9959 - val_loss: 0.3113 - val_top_k_categorical_accuracy: 0.9896 - 6s/epoch - 38ms/step\n",
            "Epoch 14/30\n",
            "159/159 - 6s - loss: 0.2133 - top_k_categorical_accuracy: 0.9968 - val_loss: 0.3194 - val_top_k_categorical_accuracy: 0.9889 - 6s/epoch - 38ms/step\n",
            "Epoch 15/30\n",
            "159/159 - 6s - loss: 0.2044 - top_k_categorical_accuracy: 0.9972 - val_loss: 0.3155 - val_top_k_categorical_accuracy: 0.9884 - 6s/epoch - 37ms/step\n",
            "Epoch 16/30\n",
            "159/159 - 6s - loss: 0.1953 - top_k_categorical_accuracy: 0.9972 - val_loss: 0.3193 - val_top_k_categorical_accuracy: 0.9878 - 6s/epoch - 38ms/step\n",
            "Epoch 17/30\n",
            "159/159 - 6s - loss: 0.1880 - top_k_categorical_accuracy: 0.9977 - val_loss: 0.3208 - val_top_k_categorical_accuracy: 0.9893 - 6s/epoch - 38ms/step\n",
            "Epoch 18/30\n",
            "159/159 - 6s - loss: 0.1827 - top_k_categorical_accuracy: 0.9980 - val_loss: 0.3266 - val_top_k_categorical_accuracy: 0.9876 - 6s/epoch - 38ms/step\n",
            "Epoch 19/30\n",
            "159/159 - 6s - loss: 0.1725 - top_k_categorical_accuracy: 0.9985 - val_loss: 0.3317 - val_top_k_categorical_accuracy: 0.9876 - 6s/epoch - 39ms/step\n",
            "Epoch 20/30\n",
            "159/159 - 6s - loss: 0.1638 - top_k_categorical_accuracy: 0.9988 - val_loss: 0.3345 - val_top_k_categorical_accuracy: 0.9887 - 6s/epoch - 38ms/step\n",
            "Epoch 21/30\n",
            "159/159 - 6s - loss: 0.1614 - top_k_categorical_accuracy: 0.9987 - val_loss: 0.3293 - val_top_k_categorical_accuracy: 0.9891 - 6s/epoch - 39ms/step\n",
            "Epoch 22/30\n",
            "159/159 - 6s - loss: 0.1512 - top_k_categorical_accuracy: 0.9990 - val_loss: 0.3566 - val_top_k_categorical_accuracy: 0.9889 - 6s/epoch - 37ms/step\n",
            "Epoch 23/30\n",
            "159/159 - 6s - loss: 0.1457 - top_k_categorical_accuracy: 0.9992 - val_loss: 0.3419 - val_top_k_categorical_accuracy: 0.9900 - 6s/epoch - 37ms/step\n",
            "Epoch 24/30\n",
            "159/159 - 6s - loss: 0.1405 - top_k_categorical_accuracy: 0.9994 - val_loss: 0.3557 - val_top_k_categorical_accuracy: 0.9882 - 6s/epoch - 38ms/step\n",
            "Epoch 25/30\n",
            "159/159 - 6s - loss: 0.1364 - top_k_categorical_accuracy: 0.9994 - val_loss: 0.3542 - val_top_k_categorical_accuracy: 0.9880 - 6s/epoch - 38ms/step\n",
            "Epoch 26/30\n",
            "159/159 - 6s - loss: 0.1332 - top_k_categorical_accuracy: 0.9994 - val_loss: 0.3666 - val_top_k_categorical_accuracy: 0.9869 - 6s/epoch - 38ms/step\n",
            "Epoch 27/30\n",
            "159/159 - 6s - loss: 0.1271 - top_k_categorical_accuracy: 0.9995 - val_loss: 0.3661 - val_top_k_categorical_accuracy: 0.9873 - 6s/epoch - 37ms/step\n",
            "Epoch 28/30\n",
            "159/159 - 6s - loss: 0.1211 - top_k_categorical_accuracy: 0.9998 - val_loss: 0.3788 - val_top_k_categorical_accuracy: 0.9887 - 6s/epoch - 38ms/step\n",
            "Epoch 29/30\n",
            "159/159 - 6s - loss: 0.1192 - top_k_categorical_accuracy: 0.9997 - val_loss: 0.3793 - val_top_k_categorical_accuracy: 0.9889 - 6s/epoch - 37ms/step\n",
            "Epoch 30/30\n",
            "159/159 - 6s - loss: 0.1098 - top_k_categorical_accuracy: 0.9997 - val_loss: 0.3862 - val_top_k_categorical_accuracy: 0.9871 - 6s/epoch - 37ms/step\n"
          ]
        },
        {
          "output_type": "execute_result",
          "data": {
            "text/plain": [
              "<keras.src.callbacks.History at 0x7c78dfe14130>"
            ]
          },
          "metadata": {},
          "execution_count": 15
        }
      ]
    },
    {
      "cell_type": "markdown",
      "source": [],
      "metadata": {
        "id": "HjgUXIu4FA6P"
      }
    },
    {
      "cell_type": "code",
      "source": [
        "print(len(x_train))\n",
        "print(len(y_train))\n",
        "print(len(x_test))\n",
        "print(len(y_test))\n",
        "score = model.evaluate(x_test, y_test, verbose=0)\n",
        "print('Test accuarcy: {:0.2f}%'.format(score[1] * 100))"
      ],
      "metadata": {
        "id": "xe9SRb8b-k-l",
        "colab": {
          "base_uri": "https://localhost:8080/"
        },
        "outputId": "67e76575-b470-4efc-9528-95dda9e518d5"
      },
      "execution_count": null,
      "outputs": [
        {
          "output_type": "stream",
          "name": "stdout",
          "text": [
            "45000\n",
            "45000\n",
            "5000\n",
            "5000\n",
            "Test accuarcy: 98.54%\n"
          ]
        }
      ]
    },
    {
      "cell_type": "code",
      "source": [
        "import matplotlib.pyplot as plt\n",
        "from random import randint\n",
        "%matplotlib inline\n",
        "idx = randint(0, len(x_test))\n",
        "img = x_test[idx]\n",
        "plt.imshow(img)\n",
        "pred = model.predict(np.expand_dims(img, axis=0))[0]\n",
        "\n",
        "ind = (-pred).argsort()[:1]\n",
        "latex = [class_names[x] for x in ind]\n",
        "print(latex)"
      ],
      "metadata": {
        "id": "l82KvUVN-ut-",
        "colab": {
          "base_uri": "https://localhost:8080/",
          "height": 465
        },
        "outputId": "628b9dff-fa77-4625-8b07-f442f3992a0e"
      },
      "execution_count": null,
      "outputs": [
        {
          "output_type": "stream",
          "name": "stdout",
          "text": [
            "1/1 [==============================] - 0s 24ms/step\n",
            "['star']\n"
          ]
        },
        {
          "output_type": "display_data",
          "data": {
            "text/plain": [
              "<Figure size 640x480 with 1 Axes>"
            ],
            "image/png": "[encoded data removed]"
          },
          "metadata": {}
        }
      ]
    },
    {
      "cell_type": "code",
      "source": [
        "model.save('doodle-10.h5')"
      ],
      "metadata": {
        "colab": {
          "base_uri": "https://localhost:8080/"
        },
        "id": "K46JGEhH-xm2",
        "outputId": "ac1934d4-2fa3-42c4-f18e-ff1b4db8ce4e"
      },
      "execution_count": null,
      "outputs": [
        {
          "output_type": "stream",
          "name": "stderr",
          "text": [
            "/usr/local/lib/python3.10/dist-packages/keras/src/engine/training.py:3103: UserWarning: You are saving your model as an HDF5 file via `model.save()`. This file format is considered legacy. We recommend using instead the native Keras format, e.g. `model.save('my_model.keras')`.\n",
            "  saving_api.save_model(\n"
          ]
        }
      ]
    },
    {
      "cell_type": "code",
      "source": [
        "x_test[0].shape"
      ],
      "metadata": {
        "colab": {
          "base_uri": "https://localhost:8080/"
        },
        "id": "aeU9C_yN-8uZ",
        "outputId": "748752c3-fce3-4aae-c66d-50f5ec84b769"
      },
      "execution_count": null,
      "outputs": [
        {
          "output_type": "execute_result",
          "data": {
            "text/plain": [
              "(28, 28, 1)"
            ]
          },
          "metadata": {},
          "execution_count": 24
        }
      ]
    },
    {
      "cell_type": "code",
      "source": [
        "x_test[0].shape"
      ],
      "metadata": {
        "colab": {
          "base_uri": "https://localhost:8080/"
        },
        "id": "JEwBZiEnBjNN",
        "outputId": "81a18150-8f35-41dc-b964-94d202efb462"
      },
      "execution_count": null,
      "outputs": [
        {
          "output_type": "execute_result",
          "data": {
            "text/plain": [
              "(28, 28, 1)"
            ]
          },
          "metadata": {},
          "execution_count": 25
        }
      ]
    },
    {
      "cell_type": "code",
      "source": [
        "class_names"
      ],
      "metadata": {
        "id": "z9evm-qyBqVJ",
        "colab": {
          "base_uri": "https://localhost:8080/"
        },
        "outputId": "e419ad2c-854a-4fa7-9ee8-422588aafe82"
      },
      "execution_count": 27,
      "outputs": [
        {
          "output_type": "execute_result",
          "data": {
            "text/plain": [
              "['circle',\n",
              " 'triangle',\n",
              " 'moon',\n",
              " 'line',\n",
              " 'smiley_face',\n",
              " 'hexagon',\n",
              " 'square',\n",
              " 'octagon',\n",
              " 'umbrella',\n",
              " 'star']"
            ]
          },
          "metadata": {},
          "execution_count": 27
        }
      ]
    },
    {
      "cell_type": "code",
      "source": [],
      "metadata": {
        "id": "ktkxYfQlPHbL"
      },
      "execution_count": null,
      "outputs": []
    }
  ]
}